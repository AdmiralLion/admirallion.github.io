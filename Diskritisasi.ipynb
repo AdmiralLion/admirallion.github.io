{
 "cells": [
  {
   "cell_type": "code",
   "execution_count": 9,
   "id": "d11c67ce",
   "metadata": {},
   "outputs": [],
   "source": [
    "import csv\n",
    "import pandas as pd\n",
    "import re\n",
    "import numpy as np\n",
    "from sklearn.impute import SimpleImputer\n"
   ]
  },
  {
   "cell_type": "code",
   "execution_count": 10,
   "id": "5f431d86",
   "metadata": {},
   "outputs": [],
   "source": [
    "data=pd.read_csv('datajadiimpute.csv')\n",
    "data2 = pd.read_csv('datajadiimpute.csv')"
   ]
  },
  {
   "cell_type": "code",
   "execution_count": 11,
   "id": "bbe59a54",
   "metadata": {},
   "outputs": [
    {
     "name": "stdout",
     "output_type": "stream",
     "text": [
      "(10.213, 53.95]    5065\n",
      "(53.95, 97.6]        45\n",
      "Name: bmi, dtype: int64\n",
      "(54.903, 163.43]    4460\n",
      "(163.43, 271.74]     650\n",
      "Name: avg_glucose_level, dtype: int64\n",
      "(41.04, 82.0]        2793\n",
      "(-0.00192, 41.04]    2317\n",
      "Name: age, dtype: int64\n"
     ]
    }
   ],
   "source": [
    "\n",
    "binning = pd.cut(data['bmi'],2).value_counts()\n",
    "binning2 = pd.cut(data['avg_glucose_level'],2).value_counts()\n",
    "print(binning)\n",
    "print(binning2)\n",
    "data2['age']=data['age'].replace(',','.',regex=True).astype(float)\n",
    "binning3 = pd.cut(data2['age'],2).value_counts()\n",
    "print(binning3)\n",
    "data2.to_csv('datadiskrit2.csv')"
   ]
  }
 ],
 "metadata": {
  "interpreter": {
   "hash": "ed99d71367fcbfe9963a7f3a9c951c1f51694b84bd5e0f32527a3b47ddf21a02"
  },
  "kernelspec": {
   "display_name": "Python 3.10.3 64-bit",
   "language": "python",
   "name": "python3"
  },
  "language_info": {
   "codemirror_mode": {
    "name": "ipython",
    "version": 3
   },
   "file_extension": ".py",
   "mimetype": "text/x-python",
   "name": "python",
   "nbconvert_exporter": "python",
   "pygments_lexer": "ipython3",
   "version": "3.10.3"
  }
 },
 "nbformat": 4,
 "nbformat_minor": 5
}
